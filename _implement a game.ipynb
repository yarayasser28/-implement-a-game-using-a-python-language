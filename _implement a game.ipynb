{
 "cells": [
  {
   "cell_type": "code",
   "execution_count": 1,
   "id": "61ef17f8-1ca7-40f5-adad-8add63a48d47",
   "metadata": {},
   "outputs": [
    {
     "name": "stdout",
     "output_type": "stream",
     "text": [
      "pygame 2.6.1 (SDL 2.28.4, Python 3.11.7)\n",
      "Hello from the pygame community. https://www.pygame.org/contribute.html\n"
     ]
    }
   ],
   "source": [
    "import numpy as np\n",
    "import pandas as pd\n",
    "import matplotlib.pyplot as plt\n",
    "import seaborn as sns\n",
    "import pygame\n",
    "import time\n",
    "import random\n"
   ]
  },
  {
   "cell_type": "code",
   "execution_count": 2,
   "id": "52d4eb42-9fc2-4811-93e4-a2735121a260",
   "metadata": {},
   "outputs": [],
   "source": [
    "width,height=800,600\n",
    "win=pygame.display.set_mode((width,height))\n",
    "pygame.display.set_caption(\"space dodge\")\n",
    "pg=pygame.transform.scale(pygame.image.load(\"gameimg.jpg\"),(width,height))\n",
    "player_width=30\n",
    "player_height=30\n",
    "player_value=5\n",
    "star_width=10\n",
    "star_height=10\n",
    "star_value=3\n",
    "pygame.font.init()\n",
    "FONT = pygame.font.SysFont(\"comicsans\",30)\n",
    "def drow(player,eplapsed_time,stars):\n",
    "    win.blit(pg,(0,0))\n",
    "    time_text=FONT.render(f\"time:{round(eplapsed_time)}s\",1,\"white\")\n",
    "    win.blit(time_text,(10,10))\n",
    "    pygame.draw.ellipse(win,\"blue\",player)\n",
    "    for star in stars:\n",
    "        pygame.draw.rect(win,\"white\",star)\n",
    "    pygame.display.update()\n",
    "def main():\n",
    "    run=True\n",
    "    player = pygame.Rect(200, height-player_height, player_width, player_height)\n",
    "    clock=pygame.time.Clock()\n",
    "    start_time=time.time()\n",
    "    eplapsed_time=0\n",
    "    star_add_increment=2000\n",
    "    star_count=0\n",
    "    stars=[]\n",
    "    hit=False\n",
    "    while run:\n",
    "        star_count+=clock.tick(60)\n",
    "        if star_count>star_add_increment:\n",
    "            for _ in range(3):\n",
    "                star_x=random.randint(0,width-star_width)\n",
    "                star=pygame.Rect(star_x,-star_height,star_width,star_height)\n",
    "                stars.append(star)\n",
    "            star_add_increment=max(200,star_add_increment-50)\n",
    "            star_count=0\n",
    "        eplapsed_time=time.time()-start_time\n",
    "        for event in pygame.event.get():\n",
    "            if event.type == pygame.QUIT:\n",
    "                run=False\n",
    "                break\n",
    "        keys = pygame.key.get_pressed()\n",
    "        if keys[pygame.K_LEFT] and player.x-player_value>=0:\n",
    "            player.x-=player_value\n",
    "        if keys[pygame.K_RIGHT] and player.x+player_value + player_width<=width:\n",
    "            player.x+=player_value\n",
    "        if keys[pygame.K_UP] and player.y-player_value>=0:\n",
    "            player.y-=player_value\n",
    "        if keys[pygame.K_DOWN] and player.y+player_value + player_height<=height:\n",
    "            player.y+=player_value\n",
    "        for star in stars:\n",
    "            star.y+=star_value\n",
    "            if star.y>height:\n",
    "                stars.remove(star)\n",
    "            elif star.y + star.height >= player.y and star.colliderect(player):\n",
    "                stars.remove(star)\n",
    "                hit=True\n",
    "                break\n",
    "        if hit:\n",
    "            lost_text=FONT.render(\"YOU LOST!\",1,\"white\")\n",
    "            win.blit(lost_text,(300,200))\n",
    "            pygame.display.update()\n",
    "            pygame.time.delay(4000)\n",
    "            break\n",
    "        drow(player,eplapsed_time,stars)\n",
    "    pygame.quit()\n",
    "if __name__ == \"__main__\":\n",
    "    main()"
   ]
  },
  {
   "cell_type": "code",
   "execution_count": null,
   "id": "da13126f-11cb-4210-8282-0220031b1a8d",
   "metadata": {},
   "outputs": [],
   "source": []
  }
 ],
 "metadata": {
  "kernelspec": {
   "display_name": "Python 3 (ipykernel)",
   "language": "python",
   "name": "python3"
  },
  "language_info": {
   "codemirror_mode": {
    "name": "ipython",
    "version": 3
   },
   "file_extension": ".py",
   "mimetype": "text/x-python",
   "name": "python",
   "nbconvert_exporter": "python",
   "pygments_lexer": "ipython3",
   "version": "3.11.7"
  }
 },
 "nbformat": 4,
 "nbformat_minor": 5
}
